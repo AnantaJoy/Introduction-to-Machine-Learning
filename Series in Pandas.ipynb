{
 "cells": [
  {
   "cell_type": "code",
   "execution_count": 25,
   "id": "7bf8e0d2",
   "metadata": {},
   "outputs": [],
   "source": [
    "import pandas as pd\n",
    "from pandas import DataFrame, Series\n",
    "import numpy as np"
   ]
  },
  {
   "cell_type": "code",
   "execution_count": 26,
   "id": "80c2ca8a",
   "metadata": {},
   "outputs": [
    {
     "data": {
      "text/plain": [
       "pandas.core.series.Series"
      ]
     },
     "execution_count": 26,
     "metadata": {},
     "output_type": "execute_result"
    }
   ],
   "source": [
    "# Series in pandas\n",
    "age = pd.Series([13,32,43,34,53,64,76])\n",
    "type(age)"
   ]
  },
  {
   "cell_type": "code",
   "execution_count": 27,
   "id": "3e0712b1",
   "metadata": {},
   "outputs": [
    {
     "data": {
      "text/plain": [
       "RangeIndex(start=0, stop=7, step=1)"
      ]
     },
     "execution_count": 27,
     "metadata": {},
     "output_type": "execute_result"
    }
   ],
   "source": [
    "# values and index\n",
    "age.values\n",
    "age.index\n"
   ]
  },
  {
   "cell_type": "code",
   "execution_count": 28,
   "id": "e581c506",
   "metadata": {
    "scrolled": true
   },
   "outputs": [
    {
     "data": {
      "text/plain": [
       "Index(['a', 'b', 'c', 'd', 'e', 'f', 'g'], dtype='object')"
      ]
     },
     "execution_count": 28,
     "metadata": {},
     "output_type": "execute_result"
    }
   ],
   "source": [
    "# index with label\n",
    "age2 = pd.Series([13,32,43,34,53,64,76], index = ['a','b','c','d','e','f','g'])\n",
    "age2.values\n",
    "age2.index"
   ]
  },
  {
   "cell_type": "code",
   "execution_count": 29,
   "id": "d747ab36",
   "metadata": {},
   "outputs": [
    {
     "data": {
      "text/plain": [
       "53"
      ]
     },
     "execution_count": 29,
     "metadata": {},
     "output_type": "execute_result"
    }
   ],
   "source": [
    "age2['e']"
   ]
  },
  {
   "cell_type": "code",
   "execution_count": 30,
   "id": "61d878ac",
   "metadata": {
    "scrolled": false
   },
   "outputs": [
    {
     "data": {
      "text/plain": [
       "a    13\n",
       "b    32\n",
       "c    43\n",
       "dtype: int64"
      ]
     },
     "execution_count": 30,
     "metadata": {},
     "output_type": "execute_result"
    }
   ],
   "source": [
    "age2[['a','b','c']]"
   ]
  },
  {
   "cell_type": "code",
   "execution_count": 31,
   "id": "9e339ae5",
   "metadata": {
    "scrolled": true
   },
   "outputs": [
    {
     "data": {
      "text/plain": [
       "e    53\n",
       "f    64\n",
       "g    76\n",
       "dtype: int64"
      ]
     },
     "execution_count": 31,
     "metadata": {},
     "output_type": "execute_result"
    }
   ],
   "source": [
    "age2[age2 > 50]"
   ]
  },
  {
   "cell_type": "code",
   "execution_count": 32,
   "id": "450b5162",
   "metadata": {},
   "outputs": [
    {
     "data": {
      "text/plain": [
       "a     26\n",
       "b     64\n",
       "c     86\n",
       "d     68\n",
       "e    106\n",
       "f    128\n",
       "g    152\n",
       "dtype: int64"
      ]
     },
     "execution_count": 32,
     "metadata": {},
     "output_type": "execute_result"
    }
   ],
   "source": [
    "age2 * 2\n"
   ]
  },
  {
   "cell_type": "code",
   "execution_count": 33,
   "id": "7c97e00f",
   "metadata": {},
   "outputs": [
    {
     "data": {
      "text/plain": [
       "45.0"
      ]
     },
     "execution_count": 33,
     "metadata": {},
     "output_type": "execute_result"
    }
   ],
   "source": [
    "np.mean(age2)"
   ]
  },
  {
   "cell_type": "code",
   "execution_count": 36,
   "id": "918b99bc",
   "metadata": {},
   "outputs": [
    {
     "data": {
      "text/plain": [
       "True"
      ]
     },
     "execution_count": 36,
     "metadata": {},
     "output_type": "execute_result"
    }
   ],
   "source": [
    "'a' in age2\n"
   ]
  },
  {
   "cell_type": "code",
   "execution_count": 37,
   "id": "2b0c27db",
   "metadata": {},
   "outputs": [
    {
     "data": {
      "text/plain": [
       "False"
      ]
     },
     "execution_count": 37,
     "metadata": {},
     "output_type": "execute_result"
    }
   ],
   "source": [
    "'j' in age2"
   ]
  },
  {
   "cell_type": "code",
   "execution_count": 67,
   "id": "b1aeb2a7",
   "metadata": {},
   "outputs": [
    {
     "data": {
      "text/plain": [
       "rajshahi      25\n",
       "dhaka         23\n",
       "khulna        33\n",
       "rangpur       22\n",
       "sylhet        34\n",
       "chittagong    30\n",
       "barishal      26\n",
       "dtype: int64"
      ]
     },
     "execution_count": 67,
     "metadata": {},
     "output_type": "execute_result"
    }
   ],
   "source": [
    "# Series data using dictionary\n",
    "district = {'rajshahi': 25, 'dhaka': 23, 'khulna': 33, 'rangpur': 22, 'sylhet': 34, 'chittagong': 30, 'barishal': 26}\n",
    "dict_area = pd.Series(district)\n",
    "dict_area\n"
   ]
  },
  {
   "cell_type": "code",
   "execution_count": 62,
   "id": "737feee1",
   "metadata": {},
   "outputs": [
    {
     "data": {
      "text/plain": [
       "rajshahi      25.0\n",
       "dhaka         23.0\n",
       "khulna        33.0\n",
       "rangpur       22.0\n",
       "sylhet        34.0\n",
       "uganda         NaN\n",
       "chittagong    30.0\n",
       "dtype: float64"
      ]
     },
     "execution_count": 62,
     "metadata": {},
     "output_type": "execute_result"
    }
   ],
   "source": [
    "states = ['rajshahi','dhaka','khulna','rangpur','sylhet','uganda','chittagong']\n",
    "data = pd.Series(district, index = states)\n",
    "data"
   ]
  },
  {
   "cell_type": "code",
   "execution_count": 68,
   "id": "3595417e",
   "metadata": {},
   "outputs": [
    {
     "data": {
      "text/plain": [
       "rajshahi      False\n",
       "dhaka         False\n",
       "khulna        False\n",
       "rangpur       False\n",
       "sylhet        False\n",
       "uganda         True\n",
       "chittagong    False\n",
       "dtype: bool"
      ]
     },
     "execution_count": 68,
     "metadata": {},
     "output_type": "execute_result"
    }
   ],
   "source": [
    "# null value in series\n",
    "pd.isnull(data)"
   ]
  },
  {
   "cell_type": "code",
   "execution_count": 64,
   "id": "cc819b31",
   "metadata": {},
   "outputs": [
    {
     "data": {
      "text/plain": [
       "rajshahi       True\n",
       "dhaka          True\n",
       "khulna         True\n",
       "rangpur        True\n",
       "sylhet         True\n",
       "uganda        False\n",
       "chittagong     True\n",
       "dtype: bool"
      ]
     },
     "execution_count": 64,
     "metadata": {},
     "output_type": "execute_result"
    }
   ],
   "source": [
    "pd.notnull(data)"
   ]
  },
  {
   "cell_type": "code",
   "execution_count": 65,
   "id": "537599b0",
   "metadata": {},
   "outputs": [
    {
     "data": {
      "text/plain": [
       "rajshahi      False\n",
       "dhaka         False\n",
       "khulna        False\n",
       "rangpur       False\n",
       "sylhet        False\n",
       "uganda         True\n",
       "chittagong    False\n",
       "dtype: bool"
      ]
     },
     "execution_count": 65,
     "metadata": {},
     "output_type": "execute_result"
    }
   ],
   "source": [
    "data.isnull()"
   ]
  },
  {
   "cell_type": "code",
   "execution_count": 66,
   "id": "2c963a87",
   "metadata": {},
   "outputs": [
    {
     "data": {
      "text/plain": [
       "barishal         NaN\n",
       "chittagong     900.0\n",
       "dhaka          529.0\n",
       "khulna        1089.0\n",
       "rajshahi       625.0\n",
       "rangpur        484.0\n",
       "sylhet        1156.0\n",
       "uganda           NaN\n",
       "dtype: float64"
      ]
     },
     "execution_count": 66,
     "metadata": {},
     "output_type": "execute_result"
    }
   ],
   "source": [
    "dict_area * data"
   ]
  },
  {
   "cell_type": "code",
   "execution_count": 69,
   "id": "b16d10d9",
   "metadata": {},
   "outputs": [
    {
     "data": {
      "text/plain": [
       "barishal       NaN\n",
       "chittagong    60.0\n",
       "dhaka         46.0\n",
       "khulna        66.0\n",
       "rajshahi      50.0\n",
       "rangpur       44.0\n",
       "sylhet        68.0\n",
       "uganda         NaN\n",
       "dtype: float64"
      ]
     },
     "execution_count": 69,
     "metadata": {},
     "output_type": "execute_result"
    }
   ],
   "source": [
    "dict_area + data"
   ]
  },
  {
   "cell_type": "code",
   "execution_count": 77,
   "id": "22803b36",
   "metadata": {},
   "outputs": [
    {
     "data": {
      "text/plain": [
       "District Name\n",
       "rajshahi      25.0\n",
       "dhaka         23.0\n",
       "khulna        33.0\n",
       "rangpur       22.0\n",
       "sylhet        34.0\n",
       "uganda         NaN\n",
       "chittagong    30.0\n",
       "Name: Area, dtype: float64"
      ]
     },
     "execution_count": 77,
     "metadata": {},
     "output_type": "execute_result"
    }
   ],
   "source": [
    "data.index.name = 'District Name'\n",
    "data.name = \"Area\"\n",
    "data"
   ]
  },
  {
   "cell_type": "code",
   "execution_count": null,
   "id": "fdc457b1",
   "metadata": {},
   "outputs": [],
   "source": []
  }
 ],
 "metadata": {
  "kernelspec": {
   "display_name": "Python 3 (ipykernel)",
   "language": "python",
   "name": "python3"
  },
  "language_info": {
   "codemirror_mode": {
    "name": "ipython",
    "version": 3
   },
   "file_extension": ".py",
   "mimetype": "text/x-python",
   "name": "python",
   "nbconvert_exporter": "python",
   "pygments_lexer": "ipython3",
   "version": "3.8.5"
  }
 },
 "nbformat": 4,
 "nbformat_minor": 5
}
