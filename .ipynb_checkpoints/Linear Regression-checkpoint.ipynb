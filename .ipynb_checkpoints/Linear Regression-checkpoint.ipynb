{
  "cells": [
    {
      "cell_type": "code",
      "source": [
        "import torch"
      ],
      "metadata": {
        "id": "zrChtBKk0gBd"
      },
      "id": "zrChtBKk0gBd",
      "execution_count": 1,
      "outputs": []
    },
    {
      "cell_type": "code",
      "source": [
        "torch.cuda.is_available()"
      ],
      "metadata": {
        "id": "lW9P3K_O0sRC",
        "outputId": "b6e7773d-8da6-4662-9e26-86bacfdefe92",
        "colab": {
          "base_uri": "https://localhost:8080/"
        }
      },
      "id": "lW9P3K_O0sRC",
      "execution_count": 2,
      "outputs": [
        {
          "output_type": "execute_result",
          "data": {
            "text/plain": [
              "False"
            ]
          },
          "metadata": {},
          "execution_count": 2
        }
      ]
    },
    {
      "cell_type": "code",
      "source": [
        ""
      ],
      "metadata": {
        "id": "824YJOeG0zqP"
      },
      "id": "824YJOeG0zqP",
      "execution_count": null,
      "outputs": []
    }
  ],
  "metadata": {
    "colab": {
      "name": "Linear Regression-checkpoint.ipynb",
      "provenance": []
    },
    "language_info": {
      "name": "python"
    },
    "kernelspec": {
      "name": "python3",
      "display_name": "Python 3"
    },
    "gpuClass": "standard"
  },
  "nbformat": 4,
  "nbformat_minor": 5
}