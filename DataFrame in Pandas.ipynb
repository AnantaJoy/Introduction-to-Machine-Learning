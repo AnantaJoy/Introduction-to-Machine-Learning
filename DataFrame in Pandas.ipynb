{
 "cells": [
  {
   "cell_type": "code",
   "execution_count": 35,
   "id": "eb82bfa3",
   "metadata": {},
   "outputs": [],
   "source": [
    "from pandas import DataFrame \n",
    "import numpy as np\n",
    "import pandas as pd"
   ]
  },
  {
   "cell_type": "code",
   "execution_count": 36,
   "id": "cd8759d8",
   "metadata": {},
   "outputs": [],
   "source": [
    "dept = {'dept_name':['EEE','CSE','ECE','ME','CE','BME','MSE'], 'estb_year':[1950,1972,1973,1937,1968,1999,1987]}\n",
    "d_frame = pd.DataFrame(dept)"
   ]
  },
  {
   "cell_type": "code",
   "execution_count": 37,
   "id": "91c76a58",
   "metadata": {},
   "outputs": [
    {
     "data": {
      "text/html": [
       "<div>\n",
       "<style scoped>\n",
       "    .dataframe tbody tr th:only-of-type {\n",
       "        vertical-align: middle;\n",
       "    }\n",
       "\n",
       "    .dataframe tbody tr th {\n",
       "        vertical-align: top;\n",
       "    }\n",
       "\n",
       "    .dataframe thead th {\n",
       "        text-align: right;\n",
       "    }\n",
       "</style>\n",
       "<table border=\"1\" class=\"dataframe\">\n",
       "  <thead>\n",
       "    <tr style=\"text-align: right;\">\n",
       "      <th></th>\n",
       "      <th>dept_name</th>\n",
       "      <th>estb_year</th>\n",
       "    </tr>\n",
       "  </thead>\n",
       "  <tbody>\n",
       "    <tr>\n",
       "      <th>0</th>\n",
       "      <td>EEE</td>\n",
       "      <td>1950</td>\n",
       "    </tr>\n",
       "    <tr>\n",
       "      <th>1</th>\n",
       "      <td>CSE</td>\n",
       "      <td>1972</td>\n",
       "    </tr>\n",
       "    <tr>\n",
       "      <th>2</th>\n",
       "      <td>ECE</td>\n",
       "      <td>1973</td>\n",
       "    </tr>\n",
       "    <tr>\n",
       "      <th>3</th>\n",
       "      <td>ME</td>\n",
       "      <td>1937</td>\n",
       "    </tr>\n",
       "    <tr>\n",
       "      <th>4</th>\n",
       "      <td>CE</td>\n",
       "      <td>1968</td>\n",
       "    </tr>\n",
       "    <tr>\n",
       "      <th>5</th>\n",
       "      <td>BME</td>\n",
       "      <td>1999</td>\n",
       "    </tr>\n",
       "    <tr>\n",
       "      <th>6</th>\n",
       "      <td>MSE</td>\n",
       "      <td>1987</td>\n",
       "    </tr>\n",
       "  </tbody>\n",
       "</table>\n",
       "</div>"
      ],
      "text/plain": [
       "  dept_name  estb_year\n",
       "0       EEE       1950\n",
       "1       CSE       1972\n",
       "2       ECE       1973\n",
       "3        ME       1937\n",
       "4        CE       1968\n",
       "5       BME       1999\n",
       "6       MSE       1987"
      ]
     },
     "execution_count": 37,
     "metadata": {},
     "output_type": "execute_result"
    }
   ],
   "source": [
    "d_frame"
   ]
  },
  {
   "cell_type": "code",
   "execution_count": 38,
   "id": "39af198c",
   "metadata": {},
   "outputs": [
    {
     "data": {
      "text/html": [
       "<div>\n",
       "<style scoped>\n",
       "    .dataframe tbody tr th:only-of-type {\n",
       "        vertical-align: middle;\n",
       "    }\n",
       "\n",
       "    .dataframe tbody tr th {\n",
       "        vertical-align: top;\n",
       "    }\n",
       "\n",
       "    .dataframe thead th {\n",
       "        text-align: right;\n",
       "    }\n",
       "</style>\n",
       "<table border=\"1\" class=\"dataframe\">\n",
       "  <thead>\n",
       "    <tr style=\"text-align: right;\">\n",
       "      <th></th>\n",
       "      <th>dept_name</th>\n",
       "      <th>estb_year</th>\n",
       "    </tr>\n",
       "  </thead>\n",
       "  <tbody>\n",
       "    <tr>\n",
       "      <th>0</th>\n",
       "      <td>EEE</td>\n",
       "      <td>1950</td>\n",
       "    </tr>\n",
       "    <tr>\n",
       "      <th>1</th>\n",
       "      <td>CSE</td>\n",
       "      <td>1972</td>\n",
       "    </tr>\n",
       "    <tr>\n",
       "      <th>2</th>\n",
       "      <td>ECE</td>\n",
       "      <td>1973</td>\n",
       "    </tr>\n",
       "    <tr>\n",
       "      <th>3</th>\n",
       "      <td>ME</td>\n",
       "      <td>1937</td>\n",
       "    </tr>\n",
       "    <tr>\n",
       "      <th>4</th>\n",
       "      <td>CE</td>\n",
       "      <td>1968</td>\n",
       "    </tr>\n",
       "  </tbody>\n",
       "</table>\n",
       "</div>"
      ],
      "text/plain": [
       "  dept_name  estb_year\n",
       "0       EEE       1950\n",
       "1       CSE       1972\n",
       "2       ECE       1973\n",
       "3        ME       1937\n",
       "4        CE       1968"
      ]
     },
     "execution_count": 38,
     "metadata": {},
     "output_type": "execute_result"
    }
   ],
   "source": [
    "d_frame.head()"
   ]
  },
  {
   "cell_type": "code",
   "execution_count": 39,
   "id": "ae682486",
   "metadata": {},
   "outputs": [
    {
     "data": {
      "text/html": [
       "<div>\n",
       "<style scoped>\n",
       "    .dataframe tbody tr th:only-of-type {\n",
       "        vertical-align: middle;\n",
       "    }\n",
       "\n",
       "    .dataframe tbody tr th {\n",
       "        vertical-align: top;\n",
       "    }\n",
       "\n",
       "    .dataframe thead th {\n",
       "        text-align: right;\n",
       "    }\n",
       "</style>\n",
       "<table border=\"1\" class=\"dataframe\">\n",
       "  <thead>\n",
       "    <tr style=\"text-align: right;\">\n",
       "      <th></th>\n",
       "      <th>estb_year</th>\n",
       "      <th>dept_name</th>\n",
       "      <th>Q-index</th>\n",
       "    </tr>\n",
       "  </thead>\n",
       "  <tbody>\n",
       "    <tr>\n",
       "      <th>i</th>\n",
       "      <td>1950</td>\n",
       "      <td>EEE</td>\n",
       "      <td>NaN</td>\n",
       "    </tr>\n",
       "    <tr>\n",
       "      <th>ii</th>\n",
       "      <td>1972</td>\n",
       "      <td>CSE</td>\n",
       "      <td>NaN</td>\n",
       "    </tr>\n",
       "    <tr>\n",
       "      <th>iii</th>\n",
       "      <td>1973</td>\n",
       "      <td>ECE</td>\n",
       "      <td>NaN</td>\n",
       "    </tr>\n",
       "    <tr>\n",
       "      <th>iv</th>\n",
       "      <td>1937</td>\n",
       "      <td>ME</td>\n",
       "      <td>NaN</td>\n",
       "    </tr>\n",
       "    <tr>\n",
       "      <th>v</th>\n",
       "      <td>1968</td>\n",
       "      <td>CE</td>\n",
       "      <td>NaN</td>\n",
       "    </tr>\n",
       "    <tr>\n",
       "      <th>vi</th>\n",
       "      <td>1999</td>\n",
       "      <td>BME</td>\n",
       "      <td>NaN</td>\n",
       "    </tr>\n",
       "    <tr>\n",
       "      <th>vii</th>\n",
       "      <td>1987</td>\n",
       "      <td>MSE</td>\n",
       "      <td>NaN</td>\n",
       "    </tr>\n",
       "  </tbody>\n",
       "</table>\n",
       "</div>"
      ],
      "text/plain": [
       "     estb_year dept_name Q-index\n",
       "i         1950       EEE     NaN\n",
       "ii        1972       CSE     NaN\n",
       "iii       1973       ECE     NaN\n",
       "iv        1937        ME     NaN\n",
       "v         1968        CE     NaN\n",
       "vi        1999       BME     NaN\n",
       "vii       1987       MSE     NaN"
      ]
     },
     "execution_count": 39,
     "metadata": {},
     "output_type": "execute_result"
    }
   ],
   "source": [
    "data2 = pd.DataFrame(dept, columns = ['estb_year', 'dept_name', 'Q-index'], index = ['i', 'ii', 'iii', 'iv', 'v', 'vi', 'vii'])\n",
    "data2"
   ]
  },
  {
   "cell_type": "code",
   "execution_count": 40,
   "id": "30541ff7",
   "metadata": {},
   "outputs": [
    {
     "data": {
      "text/plain": [
       "i      EEE\n",
       "ii     CSE\n",
       "iii    ECE\n",
       "iv      ME\n",
       "v       CE\n",
       "vi     BME\n",
       "vii    MSE\n",
       "Name: dept_name, dtype: object"
      ]
     },
     "execution_count": 40,
     "metadata": {},
     "output_type": "execute_result"
    }
   ],
   "source": [
    "data2['dept_name'] "
   ]
  },
  {
   "cell_type": "code",
   "execution_count": 41,
   "id": "2dff6058",
   "metadata": {},
   "outputs": [
    {
     "data": {
      "text/plain": [
       "i      1950\n",
       "ii     1972\n",
       "iii    1973\n",
       "iv     1937\n",
       "v      1968\n",
       "vi     1999\n",
       "vii    1987\n",
       "Name: estb_year, dtype: int64"
      ]
     },
     "execution_count": 41,
     "metadata": {},
     "output_type": "execute_result"
    }
   ],
   "source": [
    "data2['estb_year'] "
   ]
  },
  {
   "cell_type": "code",
   "execution_count": 42,
   "id": "54fe071e",
   "metadata": {},
   "outputs": [
    {
     "data": {
      "text/plain": [
       "Index(['estb_year', 'dept_name', 'Q-index'], dtype='object')"
      ]
     },
     "execution_count": 42,
     "metadata": {},
     "output_type": "execute_result"
    }
   ],
   "source": [
    "data2.columns"
   ]
  },
  {
   "cell_type": "code",
   "execution_count": 43,
   "id": "e00fc713",
   "metadata": {},
   "outputs": [
    {
     "data": {
      "text/plain": [
       "estb_year    1950\n",
       "dept_name     EEE\n",
       "Q-index       NaN\n",
       "Name: i, dtype: object"
      ]
     },
     "execution_count": 43,
     "metadata": {},
     "output_type": "execute_result"
    }
   ],
   "source": [
    "data2.loc['i']"
   ]
  },
  {
   "cell_type": "code",
   "execution_count": 44,
   "id": "e3308d37",
   "metadata": {},
   "outputs": [],
   "source": [
    "data2['Q-index'] = np.arange(7)"
   ]
  },
  {
   "cell_type": "code",
   "execution_count": 45,
   "id": "67f88cf2",
   "metadata": {},
   "outputs": [
    {
     "data": {
      "text/html": [
       "<div>\n",
       "<style scoped>\n",
       "    .dataframe tbody tr th:only-of-type {\n",
       "        vertical-align: middle;\n",
       "    }\n",
       "\n",
       "    .dataframe tbody tr th {\n",
       "        vertical-align: top;\n",
       "    }\n",
       "\n",
       "    .dataframe thead th {\n",
       "        text-align: right;\n",
       "    }\n",
       "</style>\n",
       "<table border=\"1\" class=\"dataframe\">\n",
       "  <thead>\n",
       "    <tr style=\"text-align: right;\">\n",
       "      <th></th>\n",
       "      <th>estb_year</th>\n",
       "      <th>dept_name</th>\n",
       "      <th>Q-index</th>\n",
       "    </tr>\n",
       "  </thead>\n",
       "  <tbody>\n",
       "    <tr>\n",
       "      <th>i</th>\n",
       "      <td>1950</td>\n",
       "      <td>EEE</td>\n",
       "      <td>0</td>\n",
       "    </tr>\n",
       "    <tr>\n",
       "      <th>ii</th>\n",
       "      <td>1972</td>\n",
       "      <td>CSE</td>\n",
       "      <td>1</td>\n",
       "    </tr>\n",
       "    <tr>\n",
       "      <th>iii</th>\n",
       "      <td>1973</td>\n",
       "      <td>ECE</td>\n",
       "      <td>2</td>\n",
       "    </tr>\n",
       "    <tr>\n",
       "      <th>iv</th>\n",
       "      <td>1937</td>\n",
       "      <td>ME</td>\n",
       "      <td>3</td>\n",
       "    </tr>\n",
       "    <tr>\n",
       "      <th>v</th>\n",
       "      <td>1968</td>\n",
       "      <td>CE</td>\n",
       "      <td>4</td>\n",
       "    </tr>\n",
       "    <tr>\n",
       "      <th>vi</th>\n",
       "      <td>1999</td>\n",
       "      <td>BME</td>\n",
       "      <td>5</td>\n",
       "    </tr>\n",
       "    <tr>\n",
       "      <th>vii</th>\n",
       "      <td>1987</td>\n",
       "      <td>MSE</td>\n",
       "      <td>6</td>\n",
       "    </tr>\n",
       "  </tbody>\n",
       "</table>\n",
       "</div>"
      ],
      "text/plain": [
       "     estb_year dept_name  Q-index\n",
       "i         1950       EEE        0\n",
       "ii        1972       CSE        1\n",
       "iii       1973       ECE        2\n",
       "iv        1937        ME        3\n",
       "v         1968        CE        4\n",
       "vi        1999       BME        5\n",
       "vii       1987       MSE        6"
      ]
     },
     "execution_count": 45,
     "metadata": {},
     "output_type": "execute_result"
    }
   ],
   "source": [
    "data2"
   ]
  },
  {
   "cell_type": "code",
   "execution_count": 70,
   "id": "c8f80ebf",
   "metadata": {},
   "outputs": [],
   "source": [
    "# insert Series into DataFrame\n",
    "val = pd.Series([1, 0.8, .5], index = ['i','ii','iii'])\n",
    "data2['Q-index'] = val"
   ]
  },
  {
   "cell_type": "code",
   "execution_count": 72,
   "id": "2a05cfd7",
   "metadata": {},
   "outputs": [],
   "source": [
    "data2['test_columns'] = data2.dept_name == 'EEE'"
   ]
  },
  {
   "cell_type": "code",
   "execution_count": 73,
   "id": "33f2dff7",
   "metadata": {},
   "outputs": [
    {
     "data": {
      "text/html": [
       "<div>\n",
       "<style scoped>\n",
       "    .dataframe tbody tr th:only-of-type {\n",
       "        vertical-align: middle;\n",
       "    }\n",
       "\n",
       "    .dataframe tbody tr th {\n",
       "        vertical-align: top;\n",
       "    }\n",
       "\n",
       "    .dataframe thead th {\n",
       "        text-align: right;\n",
       "    }\n",
       "</style>\n",
       "<table border=\"1\" class=\"dataframe\">\n",
       "  <thead>\n",
       "    <tr style=\"text-align: right;\">\n",
       "      <th></th>\n",
       "      <th>estb_year</th>\n",
       "      <th>dept_name</th>\n",
       "      <th>Q-index</th>\n",
       "      <th>test_columns</th>\n",
       "    </tr>\n",
       "  </thead>\n",
       "  <tbody>\n",
       "    <tr>\n",
       "      <th>i</th>\n",
       "      <td>1950</td>\n",
       "      <td>EEE</td>\n",
       "      <td>1.0</td>\n",
       "      <td>True</td>\n",
       "    </tr>\n",
       "    <tr>\n",
       "      <th>ii</th>\n",
       "      <td>1972</td>\n",
       "      <td>CSE</td>\n",
       "      <td>0.8</td>\n",
       "      <td>False</td>\n",
       "    </tr>\n",
       "    <tr>\n",
       "      <th>iii</th>\n",
       "      <td>1973</td>\n",
       "      <td>ECE</td>\n",
       "      <td>0.5</td>\n",
       "      <td>False</td>\n",
       "    </tr>\n",
       "    <tr>\n",
       "      <th>iv</th>\n",
       "      <td>1937</td>\n",
       "      <td>ME</td>\n",
       "      <td>NaN</td>\n",
       "      <td>False</td>\n",
       "    </tr>\n",
       "    <tr>\n",
       "      <th>v</th>\n",
       "      <td>1968</td>\n",
       "      <td>CE</td>\n",
       "      <td>NaN</td>\n",
       "      <td>False</td>\n",
       "    </tr>\n",
       "    <tr>\n",
       "      <th>vi</th>\n",
       "      <td>1999</td>\n",
       "      <td>BME</td>\n",
       "      <td>NaN</td>\n",
       "      <td>False</td>\n",
       "    </tr>\n",
       "    <tr>\n",
       "      <th>vii</th>\n",
       "      <td>1987</td>\n",
       "      <td>MSE</td>\n",
       "      <td>NaN</td>\n",
       "      <td>False</td>\n",
       "    </tr>\n",
       "  </tbody>\n",
       "</table>\n",
       "</div>"
      ],
      "text/plain": [
       "     estb_year dept_name  Q-index  test_columns\n",
       "i         1950       EEE      1.0          True\n",
       "ii        1972       CSE      0.8         False\n",
       "iii       1973       ECE      0.5         False\n",
       "iv        1937        ME      NaN         False\n",
       "v         1968        CE      NaN         False\n",
       "vi        1999       BME      NaN         False\n",
       "vii       1987       MSE      NaN         False"
      ]
     },
     "execution_count": 73,
     "metadata": {},
     "output_type": "execute_result"
    }
   ],
   "source": [
    "data2"
   ]
  },
  {
   "cell_type": "code",
   "execution_count": 74,
   "id": "73a4bf75",
   "metadata": {},
   "outputs": [],
   "source": [
    "del data2['test_columns']"
   ]
  },
  {
   "cell_type": "code",
   "execution_count": 75,
   "id": "2d538c6e",
   "metadata": {},
   "outputs": [
    {
     "data": {
      "text/plain": [
       "Index(['estb_year', 'dept_name', 'Q-index'], dtype='object')"
      ]
     },
     "execution_count": 75,
     "metadata": {},
     "output_type": "execute_result"
    }
   ],
   "source": [
    "data2.columns"
   ]
  },
  {
   "cell_type": "code",
   "execution_count": 84,
   "id": "eebf60bc",
   "metadata": {},
   "outputs": [],
   "source": [
    "# Nested DataFrame in pandas\n",
    "test_dataset = {\"EEE\": {'Major':'Electrical', 'Minor': 'Electronics'}, \"CSE\": {\"Major\": \"Artificial Intelligence\", 'Minor':\"Algorithm Complexity\"},\n",
    "               \"ME\": {\"Major\": \"Robotics Control\"}}"
   ]
  },
  {
   "cell_type": "code",
   "execution_count": 85,
   "id": "b927ec89",
   "metadata": {},
   "outputs": [
    {
     "data": {
      "text/html": [
       "<div>\n",
       "<style scoped>\n",
       "    .dataframe tbody tr th:only-of-type {\n",
       "        vertical-align: middle;\n",
       "    }\n",
       "\n",
       "    .dataframe tbody tr th {\n",
       "        vertical-align: top;\n",
       "    }\n",
       "\n",
       "    .dataframe thead th {\n",
       "        text-align: right;\n",
       "    }\n",
       "</style>\n",
       "<table border=\"1\" class=\"dataframe\">\n",
       "  <thead>\n",
       "    <tr style=\"text-align: right;\">\n",
       "      <th></th>\n",
       "      <th>EEE</th>\n",
       "      <th>CSE</th>\n",
       "      <th>ME</th>\n",
       "    </tr>\n",
       "  </thead>\n",
       "  <tbody>\n",
       "    <tr>\n",
       "      <th>Major</th>\n",
       "      <td>Electrical</td>\n",
       "      <td>Artificial Intelligence</td>\n",
       "      <td>Robotics Control</td>\n",
       "    </tr>\n",
       "    <tr>\n",
       "      <th>Minor</th>\n",
       "      <td>Electronics</td>\n",
       "      <td>Algorithm Complexity</td>\n",
       "      <td>NaN</td>\n",
       "    </tr>\n",
       "  </tbody>\n",
       "</table>\n",
       "</div>"
      ],
      "text/plain": [
       "               EEE                      CSE                ME\n",
       "Major   Electrical  Artificial Intelligence  Robotics Control\n",
       "Minor  Electronics     Algorithm Complexity               NaN"
      ]
     },
     "execution_count": 85,
     "metadata": {},
     "output_type": "execute_result"
    }
   ],
   "source": [
    "test_data = pd.DataFrame(test_dataset)\n",
    "test_data"
   ]
  },
  {
   "cell_type": "code",
   "execution_count": 86,
   "id": "87acea42",
   "metadata": {},
   "outputs": [
    {
     "data": {
      "text/html": [
       "<div>\n",
       "<style scoped>\n",
       "    .dataframe tbody tr th:only-of-type {\n",
       "        vertical-align: middle;\n",
       "    }\n",
       "\n",
       "    .dataframe tbody tr th {\n",
       "        vertical-align: top;\n",
       "    }\n",
       "\n",
       "    .dataframe thead th {\n",
       "        text-align: right;\n",
       "    }\n",
       "</style>\n",
       "<table border=\"1\" class=\"dataframe\">\n",
       "  <thead>\n",
       "    <tr style=\"text-align: right;\">\n",
       "      <th></th>\n",
       "      <th>Major</th>\n",
       "      <th>Minor</th>\n",
       "    </tr>\n",
       "  </thead>\n",
       "  <tbody>\n",
       "    <tr>\n",
       "      <th>EEE</th>\n",
       "      <td>Electrical</td>\n",
       "      <td>Electronics</td>\n",
       "    </tr>\n",
       "    <tr>\n",
       "      <th>CSE</th>\n",
       "      <td>Artificial Intelligence</td>\n",
       "      <td>Algorithm Complexity</td>\n",
       "    </tr>\n",
       "    <tr>\n",
       "      <th>ME</th>\n",
       "      <td>Robotics Control</td>\n",
       "      <td>NaN</td>\n",
       "    </tr>\n",
       "  </tbody>\n",
       "</table>\n",
       "</div>"
      ],
      "text/plain": [
       "                       Major                 Minor\n",
       "EEE               Electrical           Electronics\n",
       "CSE  Artificial Intelligence  Algorithm Complexity\n",
       "ME          Robotics Control                   NaN"
      ]
     },
     "execution_count": 86,
     "metadata": {},
     "output_type": "execute_result"
    }
   ],
   "source": [
    "test_data.T"
   ]
  },
  {
   "cell_type": "code",
   "execution_count": 90,
   "id": "635086d1",
   "metadata": {},
   "outputs": [],
   "source": [
    "test_data.index.name = \"Choise\"; test_data.columns.name = \"Dept\""
   ]
  },
  {
   "cell_type": "code",
   "execution_count": 91,
   "id": "cea861fa",
   "metadata": {},
   "outputs": [
    {
     "data": {
      "text/html": [
       "<div>\n",
       "<style scoped>\n",
       "    .dataframe tbody tr th:only-of-type {\n",
       "        vertical-align: middle;\n",
       "    }\n",
       "\n",
       "    .dataframe tbody tr th {\n",
       "        vertical-align: top;\n",
       "    }\n",
       "\n",
       "    .dataframe thead th {\n",
       "        text-align: right;\n",
       "    }\n",
       "</style>\n",
       "<table border=\"1\" class=\"dataframe\">\n",
       "  <thead>\n",
       "    <tr style=\"text-align: right;\">\n",
       "      <th>Dept</th>\n",
       "      <th>EEE</th>\n",
       "      <th>CSE</th>\n",
       "      <th>ME</th>\n",
       "    </tr>\n",
       "    <tr>\n",
       "      <th>Choise</th>\n",
       "      <th></th>\n",
       "      <th></th>\n",
       "      <th></th>\n",
       "    </tr>\n",
       "  </thead>\n",
       "  <tbody>\n",
       "    <tr>\n",
       "      <th>Major</th>\n",
       "      <td>Electrical</td>\n",
       "      <td>Artificial Intelligence</td>\n",
       "      <td>Robotics Control</td>\n",
       "    </tr>\n",
       "    <tr>\n",
       "      <th>Minor</th>\n",
       "      <td>Electronics</td>\n",
       "      <td>Algorithm Complexity</td>\n",
       "      <td>NaN</td>\n",
       "    </tr>\n",
       "  </tbody>\n",
       "</table>\n",
       "</div>"
      ],
      "text/plain": [
       "Dept            EEE                      CSE                ME\n",
       "Choise                                                        \n",
       "Major    Electrical  Artificial Intelligence  Robotics Control\n",
       "Minor   Electronics     Algorithm Complexity               NaN"
      ]
     },
     "execution_count": 91,
     "metadata": {},
     "output_type": "execute_result"
    }
   ],
   "source": [
    "test_data"
   ]
  },
  {
   "cell_type": "code",
   "execution_count": 92,
   "id": "09050ceb",
   "metadata": {},
   "outputs": [
    {
     "data": {
      "text/html": [
       "<div>\n",
       "<style scoped>\n",
       "    .dataframe tbody tr th:only-of-type {\n",
       "        vertical-align: middle;\n",
       "    }\n",
       "\n",
       "    .dataframe tbody tr th {\n",
       "        vertical-align: top;\n",
       "    }\n",
       "\n",
       "    .dataframe thead th {\n",
       "        text-align: right;\n",
       "    }\n",
       "</style>\n",
       "<table border=\"1\" class=\"dataframe\">\n",
       "  <thead>\n",
       "    <tr style=\"text-align: right;\">\n",
       "      <th>Choise</th>\n",
       "      <th>Major</th>\n",
       "      <th>Minor</th>\n",
       "    </tr>\n",
       "    <tr>\n",
       "      <th>Dept</th>\n",
       "      <th></th>\n",
       "      <th></th>\n",
       "    </tr>\n",
       "  </thead>\n",
       "  <tbody>\n",
       "    <tr>\n",
       "      <th>EEE</th>\n",
       "      <td>Electrical</td>\n",
       "      <td>Electronics</td>\n",
       "    </tr>\n",
       "    <tr>\n",
       "      <th>CSE</th>\n",
       "      <td>Artificial Intelligence</td>\n",
       "      <td>Algorithm Complexity</td>\n",
       "    </tr>\n",
       "    <tr>\n",
       "      <th>ME</th>\n",
       "      <td>Robotics Control</td>\n",
       "      <td>NaN</td>\n",
       "    </tr>\n",
       "  </tbody>\n",
       "</table>\n",
       "</div>"
      ],
      "text/plain": [
       "Choise                    Major                 Minor\n",
       "Dept                                                 \n",
       "EEE                  Electrical           Electronics\n",
       "CSE     Artificial Intelligence  Algorithm Complexity\n",
       "ME             Robotics Control                   NaN"
      ]
     },
     "execution_count": 92,
     "metadata": {},
     "output_type": "execute_result"
    }
   ],
   "source": [
    "test_data.T"
   ]
  },
  {
   "cell_type": "code",
   "execution_count": 94,
   "id": "f85178e4",
   "metadata": {},
   "outputs": [
    {
     "data": {
      "text/plain": [
       "array([['Electrical', 'Artificial Intelligence', 'Robotics Control'],\n",
       "       ['Electronics', 'Algorithm Complexity', nan]], dtype=object)"
      ]
     },
     "execution_count": 94,
     "metadata": {},
     "output_type": "execute_result"
    }
   ],
   "source": [
    "test_data.values"
   ]
  },
  {
   "cell_type": "code",
   "execution_count": null,
   "id": "842d4d18",
   "metadata": {},
   "outputs": [],
   "source": []
  }
 ],
 "metadata": {
  "kernelspec": {
   "display_name": "Python 3 (ipykernel)",
   "language": "python",
   "name": "python3"
  },
  "language_info": {
   "codemirror_mode": {
    "name": "ipython",
    "version": 3
   },
   "file_extension": ".py",
   "mimetype": "text/x-python",
   "name": "python",
   "nbconvert_exporter": "python",
   "pygments_lexer": "ipython3",
   "version": "3.8.5"
  }
 },
 "nbformat": 4,
 "nbformat_minor": 5
}
