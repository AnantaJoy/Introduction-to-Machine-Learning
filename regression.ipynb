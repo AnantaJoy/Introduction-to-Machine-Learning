{
  "nbformat": 4,
  "nbformat_minor": 0,
  "metadata": {
    "colab": {
      "name": "regression.ipynb",
      "provenance": [],
      "authorship_tag": "ABX9TyPTAqxnTlI84pBh1/FQ3lo7",
      "include_colab_link": true
    },
    "kernelspec": {
      "name": "python3",
      "display_name": "Python 3"
    },
    "language_info": {
      "name": "python"
    }
  },
  "cells": [
    {
      "cell_type": "markdown",
      "metadata": {
        "id": "view-in-github",
        "colab_type": "text"
      },
      "source": [
        "<a href=\"https://colab.research.google.com/github/AnantaJoy/Introduction-to-Machine-Learning/blob/main/regression.ipynb\" target=\"_parent\"><img src=\"https://colab.research.google.com/assets/colab-badge.svg\" alt=\"Open In Colab\"/></a>"
      ]
    },
    {
      "cell_type": "code",
      "execution_count": 3,
      "metadata": {
        "id": "gJOkDIaEFata"
      },
      "outputs": [],
      "source": [
        "# import library\n",
        "import numpy as np\n",
        "import matplotlib.pyplot as plt"
      ]
    },
    {
      "cell_type": "code",
      "source": [
        "# generate 101 evenly number between -1 and 1\n",
        "x_train = np.linspace(-1,1,101)\n",
        "y_train = 2 * x_train + np.random.randn(*x_train.shape) * 0.33\n",
        "y_train\n"
      ],
      "metadata": {
        "colab": {
          "base_uri": "https://localhost:8080/"
        },
        "id": "5e-aBK7IG9N7",
        "outputId": "5c49bf30-8142-4b2a-a54c-9e8f7e00ffde"
      },
      "execution_count": 12,
      "outputs": [
        {
          "output_type": "execute_result",
          "data": {
            "text/plain": [
              "array([-1.71009233, -1.79893591, -1.62744136, -1.34717517, -2.18347636,\n",
              "       -2.26101257, -1.40644937, -1.60432027, -1.4127718 , -1.314252  ,\n",
              "       -1.3716453 , -1.05863558, -1.2121893 , -1.6180653 , -1.47377196,\n",
              "       -1.16982562, -1.75012414, -1.86023216, -1.45590004, -0.88508042,\n",
              "       -1.60508345, -1.48717581, -0.80686954, -1.14427918, -1.31509061,\n",
              "       -1.96318951, -0.77580366, -1.3098541 , -0.87862333, -0.5218887 ,\n",
              "       -0.76811305, -0.51587713, -0.6831977 , -0.86882818, -0.51616438,\n",
              "       -0.12699965, -0.51360615, -0.56835453, -0.526573  ,  0.1210768 ,\n",
              "       -0.67599758, -0.28616862, -0.5696147 , -0.19302113, -0.09432329,\n",
              "       -0.41432896,  0.02427632,  0.11991085,  0.16402497, -0.02460004,\n",
              "        0.48268822,  0.04372295,  0.17719513, -0.29817205,  0.0848432 ,\n",
              "       -0.06842699,  0.14529472,  0.2571445 ,  0.54198463,  0.07205644,\n",
              "        0.366985  ,  0.56919013,  0.33414442,  0.33362818,  0.87848858,\n",
              "        0.72313668,  0.86200981,  0.80742391,  0.24826352,  0.45242987,\n",
              "        1.20252726,  0.57890615,  0.79055348,  0.75724673,  0.18434675,\n",
              "        0.75407672,  0.95344573,  0.95673327,  1.17226745,  1.24308482,\n",
              "        1.2779301 ,  1.29385729,  1.12886794,  1.39837731,  1.80069536,\n",
              "        1.03313171,  1.51908188,  0.85256638,  1.48965201,  1.29724467,\n",
              "        1.89688267,  1.67253196,  2.11485858,  1.3291603 ,  1.91234525,\n",
              "        2.04307373,  1.19360616,  1.59722873,  2.16910926,  1.79248058,\n",
              "        1.71574034])"
            ]
          },
          "metadata": {},
          "execution_count": 12
        }
      ]
    },
    {
      "cell_type": "code",
      "source": [
        "plt.scatter(x_train, y_train)\n",
        "plt.show()"
      ],
      "metadata": {
        "colab": {
          "base_uri": "https://localhost:8080/",
          "height": 265
        },
        "id": "DfsW7Jr3HkWQ",
        "outputId": "8f60d39b-2958-464b-da90-7e0753ad3626"
      },
      "execution_count": 15,
      "outputs": [
        {
          "output_type": "display_data",
          "data": {
            "text/plain": [
              "<Figure size 432x288 with 1 Axes>"
            ],
            "image/png": "[encoded data removed]"
          },
          "metadata": {
            "needs_background": "light"
          }
        }
      ]
    }
  ]
}