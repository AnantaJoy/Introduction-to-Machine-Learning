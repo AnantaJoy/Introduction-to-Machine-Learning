{
  "nbformat": 4,
  "nbformat_minor": 0,
  "metadata": {
    "colab": {
      "name": "polynomial.ipynb",
      "provenance": [],
      "authorship_tag": "ABX9TyMdJFKbwUqGGn4zTOZ6Myr4",
      "include_colab_link": true
    },
    "kernelspec": {
      "name": "python3",
      "display_name": "Python 3"
    },
    "language_info": {
      "name": "python"
    }
  },
  "cells": [
    {
      "cell_type": "markdown",
      "metadata": {
        "id": "view-in-github",
        "colab_type": "text"
      },
      "source": [
        "<a href=\"https://colab.research.google.com/github/AnantaJoy/Introduction-to-Machine-Learning/blob/main/polynomial.ipynb\" target=\"_parent\"><img src=\"https://colab.research.google.com/assets/colab-badge.svg\" alt=\"Open In Colab\"/></a>"
      ]
    },
    {
      "cell_type": "code",
      "execution_count": 1,
      "metadata": {
        "colab": {
          "base_uri": "https://localhost:8080/"
        },
        "id": "gJOkDIaEFata",
        "outputId": "3da33da3-7d6f-4812-a081-218a38b301f9"
      },
      "outputs": [
        {
          "output_type": "stream",
          "name": "stdout",
          "text": [
            "WARNING:tensorflow:From /usr/local/lib/python3.7/dist-packages/tensorflow/python/compat/v2_compat.py:107: disable_resource_variables (from tensorflow.python.ops.variable_scope) is deprecated and will be removed in a future version.\n",
            "Instructions for updating:\n",
            "non-resource variables are not supported in the long term\n"
          ]
        }
      ],
      "source": [
        "# import library\n",
        "import numpy as np\n",
        "import matplotlib.pyplot as plt\n",
        "\n",
        "import tensorflow.compat.v1 as tf\n",
        "tf.disable_v2_behavior()\n"
      ]
    },
    {
      "cell_type": "code",
      "source": [
        "learning_rate = 0.01\n",
        "training_epochs = 40"
      ],
      "metadata": {
        "id": "UGYoc-RXPZei"
      },
      "execution_count": 21,
      "outputs": []
    },
    {
      "cell_type": "code",
      "source": [
        "# generate fake data\n",
        "trX = np.linspace(-1,1,1000)"
      ],
      "metadata": {
        "id": "R_TQQ3gwPlpd"
      },
      "execution_count": 9,
      "outputs": []
    },
    {
      "cell_type": "code",
      "source": [
        "# set up raw input data based on fifth degree polynomial\n",
        "num_coeffs = 8\n",
        "trY_coeffs = [1,5,8,4,3,6,8,3]\n",
        "trY = 0\n",
        "for i in range(num_coeffs):\n",
        "  trY += trY_coeffs[i] * np.power(trX, i)"
      ],
      "metadata": {
        "id": "B_qohNzpP0bc"
      },
      "execution_count": 10,
      "outputs": []
    },
    {
      "cell_type": "code",
      "source": [
        "trY += np.random.randn(*trX.shape) * 1.5 "
      ],
      "metadata": {
        "id": "3mUOYG7AQzBI"
      },
      "execution_count": 11,
      "outputs": []
    },
    {
      "cell_type": "code",
      "source": [
        "plt.scatter(trX, trY)\n",
        "plt.show()"
      ],
      "metadata": {
        "colab": {
          "base_uri": "https://localhost:8080/",
          "height": 265
        },
        "id": "OHyD89c4Q_NL",
        "outputId": "2db4cc33-ce1d-4d94-9413-4a2b483c7e39"
      },
      "execution_count": 12,
      "outputs": [
        {
          "output_type": "display_data",
          "data": {
            "text/plain": [
              "<Figure size 432x288 with 1 Axes>"
            ],
            "image/png": "[encoded data removed]"
          },
          "metadata": {
            "needs_background": "light"
          }
        }
      ]
    },
    {
      "cell_type": "code",
      "source": [
        "X = tf.placeholder(tf.float32)\n",
        "Y = tf.placeholder(tf.float32)"
      ],
      "metadata": {
        "id": "q31dLw6IRaPI"
      },
      "execution_count": 13,
      "outputs": []
    },
    {
      "cell_type": "code",
      "source": [
        "def model(X, w):\n",
        "  terms = []\n",
        "  for i in range(num_coeffs):\n",
        "    term = tf.multiply(w[i], tf.pow(X, i))\n",
        "    terms.append(term)\n",
        "  return tf.add_n(terms)\n",
        "\n",
        "w = tf.Variable([0.] * num_coeffs, name = \"parameters\")\n",
        "y_model = model(X, w)"
      ],
      "metadata": {
        "id": "iNX9-AkHRmzc"
      },
      "execution_count": 16,
      "outputs": []
    },
    {
      "cell_type": "code",
      "source": [
        "cost = (tf.pow(Y - y_model, 2))\n",
        "train_op = tf.train.GradientDescentOptimizer(learning_rate).minimize(cost)"
      ],
      "metadata": {
        "id": "LcYZrZtJSnW2"
      },
      "execution_count": 22,
      "outputs": []
    },
    {
      "cell_type": "code",
      "source": [
        "sess = tf.Session()\n",
        "init = tf.global_variables_initializer()\n",
        "sess.run(init)"
      ],
      "metadata": {
        "id": "6aLpbuJWTMM-"
      },
      "execution_count": 24,
      "outputs": []
    },
    {
      "cell_type": "code",
      "source": [
        "for epoch in range(training_epochs):\n",
        "  for(x,y) in zip(trX, trY):\n",
        "    sess.run(train_op, feed_dict={X:x, Y:y})\n",
        "\n",
        "w_val = sess.run(w)\n",
        "print(w_val)"
      ],
      "metadata": {
        "colab": {
          "base_uri": "https://localhost:8080/"
        },
        "id": "4838AzihTbE0",
        "outputId": "ac7aaca7-fa4b-4d7e-d3c4-af7b47644ba7"
      },
      "execution_count": 26,
      "outputs": [
        {
          "output_type": "stream",
          "name": "stdout",
          "text": [
            "[1.0207338 4.781271  7.0583954 4.6785464 6.392775  4.530586  5.368061\n",
            " 4.163019 ]\n"
          ]
        }
      ]
    },
    {
      "cell_type": "code",
      "source": [
        "sess.close()"
      ],
      "metadata": {
        "id": "KI4fOGDsS5tz"
      },
      "execution_count": 27,
      "outputs": []
    },
    {
      "cell_type": "code",
      "source": [
        "plt.scatter(trX, trY)\n",
        "trY2 = 0\n",
        "for i in range(num_coeffs):\n",
        "  trY2 += w_val[i] * np.power(trX, i)\n",
        "\n",
        "plt.plot(trX, trY, 'r')\n",
        "plt.show() "
      ],
      "metadata": {
        "colab": {
          "base_uri": "https://localhost:8080/",
          "height": 265
        },
        "id": "ruNi3OD0UAxs",
        "outputId": "ab9d56bb-db9a-411d-c754-5aa0391528e6"
      },
      "execution_count": 29,
      "outputs": [
        {
          "output_type": "display_data",
          "data": {
            "text/plain": [
              "<Figure size 432x288 with 1 Axes>"
            ],
            "image/png": "[encoded data removed]"
          },
          "metadata": {
            "needs_background": "light"
          }
        }
      ]
    }
  ]
}